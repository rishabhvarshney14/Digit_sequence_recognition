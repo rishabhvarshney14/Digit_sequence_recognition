{
  "nbformat": 4,
  "nbformat_minor": 0,
  "metadata": {
    "colab": {
      "name": "Digit Sequence Recognizaton.ipynb",
      "provenance": []
    },
    "kernelspec": {
      "name": "python3",
      "display_name": "Python 3"
    },
    "accelerator": "GPU"
  },
  "cells": [
    {
      "cell_type": "code",
      "metadata": {
        "id": "572ZvIDaBXbO",
        "colab_type": "code",
        "outputId": "d3695c45-07e4-4add-c930-1df716daaabe",
        "colab": {
          "base_uri": "https://localhost:8080/",
          "height": 34
        }
      },
      "source": [
        "import random\n",
        "\n",
        "import numpy as np\n",
        "from PIL import Image\n",
        "import tensorflow as tf\n",
        "\n",
        "from keras.datasets import mnist\n",
        "from keras.utils import np_utils\n",
        "from keras.models import Sequential, Model\n",
        "from keras.layers import Dense, Dropout, Activation, Flatten, Input\n",
        "from keras.layers import Convolution2D, MaxPool2D\n",
        "\n",
        "import matplotlib.pyplot as plt\n",
        "%matplotlib inline"
      ],
      "execution_count": 1,
      "outputs": [
        {
          "output_type": "stream",
          "text": [
            "Using TensorFlow backend.\n"
          ],
          "name": "stderr"
        }
      ]
    },
    {
      "cell_type": "code",
      "metadata": {
        "id": "8A_5aDW4CCqW",
        "colab_type": "code",
        "colab": {}
      },
      "source": [
        "#Loading MNIST Dataset from keras\n",
        "\n",
        "(X_train, y_train), (X_test, y_test) = mnist.load_data()"
      ],
      "execution_count": 0,
      "outputs": []
    },
    {
      "cell_type": "code",
      "metadata": {
        "id": "2iXF65ZmCeOS",
        "colab_type": "code",
        "outputId": "341eafd2-e7dd-4048-bee4-9d1e1b7e704f",
        "colab": {
          "base_uri": "https://localhost:8080/",
          "height": 50
        }
      },
      "source": [
        "print(f'Shape of training dataset: {np.shape(X_train)}')\n",
        "print(f'Shape of testing dataset: {np.shape(X_test)}')"
      ],
      "execution_count": 3,
      "outputs": [
        {
          "output_type": "stream",
          "text": [
            "Shape of training dataset: (60000, 28, 28)\n",
            "Shape of testing dataset: (10000, 28, 28)\n"
          ],
          "name": "stdout"
        }
      ]
    },
    {
      "cell_type": "code",
      "metadata": {
        "id": "8V-uWTwnC6_o",
        "colab_type": "code",
        "colab": {}
      },
      "source": [
        "#Creating Custom Dataset for digits in sequence\n",
        "\n",
        "def build_dataset(data, labels, dataset_size):\n",
        "  new_img_width = 64\n",
        "  new_img_height = 64\n",
        "\n",
        "  new_data = np.ndarray(shape=(dataset_size, new_img_height, new_img_width), dtype=np.float32)\n",
        "  new_labels = []\n",
        "\n",
        "  for i in range(0, dataset_size):\n",
        "    num_digits = random.randint(1, 5)\n",
        "\n",
        "    indices = [random.randint(0, len(data)-1) for _ in range(0, num_digits)]\n",
        "    new_image = np.hstack([X_train[index] for index in indices])\n",
        "    new_label = [y_train[index] for index in indices]\n",
        "\n",
        "    for j in range(0, 5-num_digits):\n",
        "      new_image = np.hstack([new_image, np.zeros((28, 28))])\n",
        "      new_label.append(10)\n",
        "\n",
        "    new_image = np.array(Image.fromarray(new_image).resize((64, 64)))\n",
        "    new_data[i,:,:] = new_image\n",
        "    new_labels.append(tuple(new_label))\n",
        "  \n",
        "  return new_data, new_labels\n"
      ],
      "execution_count": 0,
      "outputs": []
    },
    {
      "cell_type": "code",
      "metadata": {
        "id": "TOV1fDy4G96O",
        "colab_type": "code",
        "colab": {}
      },
      "source": [
        "#Building new Training and Testing Dataset\n",
        "\n",
        "X_new_train, y_new_train = build_dataset(X_train, y_train, 60000)\n",
        "X_new_test, y_new_test = build_dataset(X_train, y_train, 60000)"
      ],
      "execution_count": 0,
      "outputs": []
    },
    {
      "cell_type": "code",
      "metadata": {
        "id": "jaxIa9pGHR71",
        "colab_type": "code",
        "outputId": "c7d802a4-6b59-4275-a6f9-115f8c5fe819",
        "colab": {
          "base_uri": "https://localhost:8080/",
          "height": 285
        }
      },
      "source": [
        "plt.figure()\n",
        "plt.imshow(X_new_train[108], cmap='gray')\n",
        "print(y_new_train[108])\n",
        "\n",
        "# here 10 shows empty space"
      ],
      "execution_count": 6,
      "outputs": [
        {
          "output_type": "stream",
          "text": [
            "(3, 0, 4, 7, 10)\n"
          ],
          "name": "stdout"
        },
        {
          "output_type": "display_data",
          "data": {
            "image/png": "[encoded data removed]",
            "text/plain": [
              "<Figure size 432x288 with 1 Axes>"
            ]
          },
          "metadata": {
            "tags": [],
            "needs_background": "light"
          }
        }
      ]
    },
    {
      "cell_type": "code",
      "metadata": {
        "id": "WKPeAtTvLNZU",
        "colab_type": "code",
        "colab": {}
      },
      "source": [
        "#Conver labels to One-hot representation of shape (set_Size, digits, classes)\n",
        "#Possible Classes are 11 because there are 0-9 digits and another class to represent that no number was there hence 11 classes\n",
        "possible_classes = 11\n",
        "\n",
        "def convert_labels(labels):\n",
        "  dig0_arr = np.ndarray(shape=(len(labels),possible_classes))\n",
        "  dig1_arr = np.ndarray(shape=(len(labels),possible_classes))\n",
        "  dig2_arr = np.ndarray(shape=(len(labels),possible_classes))\n",
        "  dig3_arr = np.ndarray(shape=(len(labels),possible_classes)) \n",
        "  dig4_arr = np.ndarray(shape=(len(labels),possible_classes))\n",
        "  for index, label in enumerate(labels):\n",
        "    dig0_arr[index,:] = np_utils.to_categorical(label[0],possible_classes)\n",
        "    dig1_arr[index,:] = np_utils.to_categorical(label[1],possible_classes)\n",
        "    dig2_arr[index,:] = np_utils.to_categorical(label[2],possible_classes)\n",
        "    dig3_arr[index,:] = np_utils.to_categorical(label[3],possible_classes)\n",
        "    dig4_arr[index,:] = np_utils.to_categorical(label[4],possible_classes)\n",
        "\n",
        "  return [dig0_arr, dig1_arr, dig2_arr, dig3_arr, dig4_arr]"
      ],
      "execution_count": 0,
      "outputs": []
    },
    {
      "cell_type": "code",
      "metadata": {
        "id": "6UPFTHXUMOAu",
        "colab_type": "code",
        "outputId": "a9d3867f-d33a-482f-cdc6-33200ef61153",
        "colab": {
          "base_uri": "https://localhost:8080/",
          "height": 34
        }
      },
      "source": [
        "train_labels = convert_labels(y_new_train)\n",
        "test_labels = convert_labels(y_new_test)\n",
        "\n",
        "print(np.shape(train_labels))"
      ],
      "execution_count": 8,
      "outputs": [
        {
          "output_type": "stream",
          "text": [
            "(5, 60000, 11)\n"
          ],
          "name": "stdout"
        }
      ]
    },
    {
      "cell_type": "code",
      "metadata": {
        "id": "C3KrYcloMbt2",
        "colab_type": "code",
        "colab": {}
      },
      "source": [
        "#Preprocessing Images\n",
        "\n",
        "def process_data(img_data):\n",
        "  img_data = img_data.reshape(len(img_data),64,64,1)\n",
        "  img_data = img_data.astype('float32')\n",
        "  img_data = img_data/255\n",
        "  return img_data"
      ],
      "execution_count": 0,
      "outputs": []
    },
    {
      "cell_type": "code",
      "metadata": {
        "id": "t0Xo98hBMpQC",
        "colab_type": "code",
        "colab": {}
      },
      "source": [
        "train_images = process_data(X_new_train)\n",
        "test_images = process_data(X_new_test)"
      ],
      "execution_count": 0,
      "outputs": []
    },
    {
      "cell_type": "code",
      "metadata": {
        "id": "EazS0iPJNSDn",
        "colab_type": "code",
        "colab": {}
      },
      "source": [
        "# Model Building\n",
        "\n",
        "batch_size = 128\n",
        "\n",
        "inputs = Input(shape=(64, 64, 1))\n",
        "\n",
        "cov = Convolution2D(32, 3, strides=3, padding='same', activation='relu')(inputs)\n",
        "cov = Convolution2D(32, 3, strides=3, padding='same', activation='relu')(cov)\n",
        "cov = MaxPool2D(pool_size=(2, 2))(cov)\n",
        "cov = Dropout(0.25)(cov)\n",
        "cov = Flatten()(cov)\n",
        "\n",
        "cov = Dense(128, activation='relu')(cov)\n",
        "cov = Dropout(0.5)(cov)\n",
        "\n",
        "c0 = Dense(11, activation='softmax')(cov)\n",
        "c1 = Dense(11, activation='softmax')(cov)\n",
        "c2 = Dense(11, activation='softmax')(cov)\n",
        "c3 = Dense(11, activation='softmax')(cov)\n",
        "c4 = Dense(11, activation='softmax')(cov)\n",
        "\n",
        "model = Model(inputs=inputs, outputs=[c0, c1, c2, c3, c4])\n",
        "\n",
        "model.compile(loss='categorical_crossentropy', optimizer='adam', metrics=['accuracy'])"
      ],
      "execution_count": 0,
      "outputs": []
    },
    {
      "cell_type": "code",
      "metadata": {
        "id": "xuCudzksNVSX",
        "colab_type": "code",
        "outputId": "f30920c9-0507-4cfb-c7dd-6d52f40ade9e",
        "colab": {
          "base_uri": "https://localhost:8080/",
          "height": 574
        }
      },
      "source": [
        "model.fit(train_images, train_labels, batch_size=batch_size, epochs=15, \n",
        "          verbose=1, validation_data=(test_images, test_labels))"
      ],
      "execution_count": 12,
      "outputs": [
        {
          "output_type": "stream",
          "text": [
            "Train on 60000 samples, validate on 60000 samples\n",
            "Epoch 1/15\n",
            "60000/60000 [==============================] - 9s 144us/step - loss: 6.0966 - dense_2_loss: 1.6091 - dense_3_loss: 1.5507 - dense_4_loss: 1.3524 - dense_5_loss: 1.0145 - dense_6_loss: 0.5692 - dense_2_accuracy: 0.4319 - dense_3_accuracy: 0.4584 - dense_4_accuracy: 0.5345 - dense_5_accuracy: 0.6672 - dense_6_accuracy: 0.8243 - val_loss: 3.4131 - val_dense_2_loss: 0.7380 - val_dense_3_loss: 0.8486 - val_dense_4_loss: 0.8260 - val_dense_5_loss: 0.6520 - val_dense_6_loss: 0.3485 - val_dense_2_accuracy: 0.8056 - val_dense_3_accuracy: 0.7769 - val_dense_4_accuracy: 0.7806 - val_dense_5_accuracy: 0.8077 - val_dense_6_accuracy: 0.9025\n",
            "Epoch 2/15\n",
            "60000/60000 [==============================] - 7s 120us/step - loss: 4.0727 - dense_2_loss: 0.9809 - dense_3_loss: 1.0195 - dense_4_loss: 0.9388 - dense_5_loss: 0.7341 - dense_6_loss: 0.3993 - dense_2_accuracy: 0.6644 - dense_3_accuracy: 0.6500 - dense_4_accuracy: 0.6779 - dense_5_accuracy: 0.7475 - dense_6_accuracy: 0.8682 - val_loss: 2.3838 - val_dense_2_loss: 0.4787 - val_dense_3_loss: 0.5916 - val_dense_4_loss: 0.5908 - val_dense_5_loss: 0.4739 - val_dense_6_loss: 0.2489 - val_dense_2_accuracy: 0.8748 - val_dense_3_accuracy: 0.8451 - val_dense_4_accuracy: 0.8490 - val_dense_5_accuracy: 0.8717 - val_dense_6_accuracy: 0.9328\n",
            "Epoch 3/15\n",
            "60000/60000 [==============================] - 7s 121us/step - loss: 3.5269 - dense_2_loss: 0.8299 - dense_3_loss: 0.8750 - dense_4_loss: 0.8316 - dense_5_loss: 0.6447 - dense_6_loss: 0.3455 - dense_2_accuracy: 0.7209 - dense_3_accuracy: 0.6984 - dense_4_accuracy: 0.7129 - dense_5_accuracy: 0.7781 - dense_6_accuracy: 0.8847 - val_loss: 2.0303 - val_dense_2_loss: 0.3990 - val_dense_3_loss: 0.4945 - val_dense_4_loss: 0.5103 - val_dense_5_loss: 0.4136 - val_dense_6_loss: 0.2128 - val_dense_2_accuracy: 0.8954 - val_dense_3_accuracy: 0.8732 - val_dense_4_accuracy: 0.8749 - val_dense_5_accuracy: 0.8934 - val_dense_6_accuracy: 0.9477\n",
            "Epoch 4/15\n",
            "60000/60000 [==============================] - 7s 117us/step - loss: 3.2137 - dense_2_loss: 0.7464 - dense_3_loss: 0.7932 - dense_4_loss: 0.7630 - dense_5_loss: 0.5950 - dense_6_loss: 0.3162 - dense_2_accuracy: 0.7496 - dense_3_accuracy: 0.7302 - dense_4_accuracy: 0.7363 - dense_5_accuracy: 0.7930 - dense_6_accuracy: 0.8937 - val_loss: 1.7671 - val_dense_2_loss: 0.3420 - val_dense_3_loss: 0.4216 - val_dense_4_loss: 0.4511 - val_dense_5_loss: 0.3638 - val_dense_6_loss: 0.1886 - val_dense_2_accuracy: 0.9112 - val_dense_3_accuracy: 0.8919 - val_dense_4_accuracy: 0.8819 - val_dense_5_accuracy: 0.9071 - val_dense_6_accuracy: 0.9528\n",
            "Epoch 5/15\n",
            "60000/60000 [==============================] - 7s 121us/step - loss: 2.9970 - dense_2_loss: 0.6824 - dense_3_loss: 0.7374 - dense_4_loss: 0.7195 - dense_5_loss: 0.5579 - dense_6_loss: 0.2998 - dense_2_accuracy: 0.7720 - dense_3_accuracy: 0.7486 - dense_4_accuracy: 0.7513 - dense_5_accuracy: 0.8062 - dense_6_accuracy: 0.8980 - val_loss: 1.5877 - val_dense_2_loss: 0.2976 - val_dense_3_loss: 0.3832 - val_dense_4_loss: 0.4031 - val_dense_5_loss: 0.3308 - val_dense_6_loss: 0.1731 - val_dense_2_accuracy: 0.9222 - val_dense_3_accuracy: 0.8965 - val_dense_4_accuracy: 0.8987 - val_dense_5_accuracy: 0.9179 - val_dense_6_accuracy: 0.9585\n",
            "Epoch 6/15\n",
            "60000/60000 [==============================] - 7s 120us/step - loss: 2.8337 - dense_2_loss: 0.6438 - dense_3_loss: 0.6909 - dense_4_loss: 0.6787 - dense_5_loss: 0.5351 - dense_6_loss: 0.2853 - dense_2_accuracy: 0.7861 - dense_3_accuracy: 0.7653 - dense_4_accuracy: 0.7682 - dense_5_accuracy: 0.8123 - dense_6_accuracy: 0.9024 - val_loss: 1.4530 - val_dense_2_loss: 0.2678 - val_dense_3_loss: 0.3444 - val_dense_4_loss: 0.3683 - val_dense_5_loss: 0.3101 - val_dense_6_loss: 0.1624 - val_dense_2_accuracy: 0.9297 - val_dense_3_accuracy: 0.9082 - val_dense_4_accuracy: 0.9069 - val_dense_5_accuracy: 0.9254 - val_dense_6_accuracy: 0.9594\n",
            "Epoch 7/15\n",
            "60000/60000 [==============================] - 7s 117us/step - loss: 2.7000 - dense_2_loss: 0.6070 - dense_3_loss: 0.6575 - dense_4_loss: 0.6495 - dense_5_loss: 0.5111 - dense_6_loss: 0.2750 - dense_2_accuracy: 0.7988 - dense_3_accuracy: 0.7760 - dense_4_accuracy: 0.7775 - dense_5_accuracy: 0.8209 - dense_6_accuracy: 0.9068 - val_loss: 1.3763 - val_dense_2_loss: 0.2618 - val_dense_3_loss: 0.3192 - val_dense_4_loss: 0.3481 - val_dense_5_loss: 0.2922 - val_dense_6_loss: 0.1549 - val_dense_2_accuracy: 0.9298 - val_dense_3_accuracy: 0.9151 - val_dense_4_accuracy: 0.9173 - val_dense_5_accuracy: 0.9295 - val_dense_6_accuracy: 0.9618\n",
            "Epoch 8/15\n",
            "60000/60000 [==============================] - 7s 121us/step - loss: 2.5923 - dense_2_loss: 0.5869 - dense_3_loss: 0.6237 - dense_4_loss: 0.6271 - dense_5_loss: 0.4888 - dense_6_loss: 0.2656 - dense_2_accuracy: 0.8059 - dense_3_accuracy: 0.7907 - dense_4_accuracy: 0.7855 - dense_5_accuracy: 0.8288 - dense_6_accuracy: 0.9086 - val_loss: 1.2732 - val_dense_2_loss: 0.2444 - val_dense_3_loss: 0.2901 - val_dense_4_loss: 0.3274 - val_dense_5_loss: 0.2647 - val_dense_6_loss: 0.1466 - val_dense_2_accuracy: 0.9344 - val_dense_3_accuracy: 0.9218 - val_dense_4_accuracy: 0.9179 - val_dense_5_accuracy: 0.9379 - val_dense_6_accuracy: 0.9652\n",
            "Epoch 9/15\n",
            "60000/60000 [==============================] - 7s 121us/step - loss: 2.5083 - dense_2_loss: 0.5637 - dense_3_loss: 0.6064 - dense_4_loss: 0.6009 - dense_5_loss: 0.4767 - dense_6_loss: 0.2603 - dense_2_accuracy: 0.8127 - dense_3_accuracy: 0.7947 - dense_4_accuracy: 0.7936 - dense_5_accuracy: 0.8337 - dense_6_accuracy: 0.9099 - val_loss: 1.2008 - val_dense_2_loss: 0.2311 - val_dense_3_loss: 0.2712 - val_dense_4_loss: 0.3029 - val_dense_5_loss: 0.2509 - val_dense_6_loss: 0.1447 - val_dense_2_accuracy: 0.9374 - val_dense_3_accuracy: 0.9266 - val_dense_4_accuracy: 0.9261 - val_dense_5_accuracy: 0.9445 - val_dense_6_accuracy: 0.9658\n",
            "Epoch 10/15\n",
            "60000/60000 [==============================] - 7s 122us/step - loss: 2.4403 - dense_2_loss: 0.5520 - dense_3_loss: 0.5889 - dense_4_loss: 0.5816 - dense_5_loss: 0.4650 - dense_6_loss: 0.2528 - dense_2_accuracy: 0.8178 - dense_3_accuracy: 0.8046 - dense_4_accuracy: 0.8012 - dense_5_accuracy: 0.8399 - dense_6_accuracy: 0.9137 - val_loss: 1.1589 - val_dense_2_loss: 0.2245 - val_dense_3_loss: 0.2710 - val_dense_4_loss: 0.2887 - val_dense_5_loss: 0.2359 - val_dense_6_loss: 0.1389 - val_dense_2_accuracy: 0.9390 - val_dense_3_accuracy: 0.9247 - val_dense_4_accuracy: 0.9293 - val_dense_5_accuracy: 0.9421 - val_dense_6_accuracy: 0.9676\n",
            "Epoch 11/15\n",
            "60000/60000 [==============================] - 7s 123us/step - loss: 2.3708 - dense_2_loss: 0.5389 - dense_3_loss: 0.5654 - dense_4_loss: 0.5665 - dense_5_loss: 0.4505 - dense_6_loss: 0.2494 - dense_2_accuracy: 0.8217 - dense_3_accuracy: 0.8101 - dense_4_accuracy: 0.8069 - dense_5_accuracy: 0.8451 - dense_6_accuracy: 0.9152 - val_loss: 1.0913 - val_dense_2_loss: 0.2121 - val_dense_3_loss: 0.2473 - val_dense_4_loss: 0.2732 - val_dense_5_loss: 0.2265 - val_dense_6_loss: 0.1322 - val_dense_2_accuracy: 0.9398 - val_dense_3_accuracy: 0.9310 - val_dense_4_accuracy: 0.9311 - val_dense_5_accuracy: 0.9473 - val_dense_6_accuracy: 0.9694\n",
            "Epoch 12/15\n",
            "60000/60000 [==============================] - 7s 120us/step - loss: 2.3132 - dense_2_loss: 0.5247 - dense_3_loss: 0.5506 - dense_4_loss: 0.5518 - dense_5_loss: 0.4397 - dense_6_loss: 0.2465 - dense_2_accuracy: 0.8277 - dense_3_accuracy: 0.8164 - dense_4_accuracy: 0.8120 - dense_5_accuracy: 0.8476 - dense_6_accuracy: 0.9160 - val_loss: 1.0425 - val_dense_2_loss: 0.2029 - val_dense_3_loss: 0.2412 - val_dense_4_loss: 0.2541 - val_dense_5_loss: 0.2156 - val_dense_6_loss: 0.1287 - val_dense_2_accuracy: 0.9428 - val_dense_3_accuracy: 0.9327 - val_dense_4_accuracy: 0.9337 - val_dense_5_accuracy: 0.9480 - val_dense_6_accuracy: 0.9701\n",
            "Epoch 13/15\n",
            "60000/60000 [==============================] - 7s 118us/step - loss: 2.2644 - dense_2_loss: 0.5107 - dense_3_loss: 0.5419 - dense_4_loss: 0.5381 - dense_5_loss: 0.4331 - dense_6_loss: 0.2407 - dense_2_accuracy: 0.8339 - dense_3_accuracy: 0.8206 - dense_4_accuracy: 0.8177 - dense_5_accuracy: 0.8508 - dense_6_accuracy: 0.9173 - val_loss: 1.0165 - val_dense_2_loss: 0.1984 - val_dense_3_loss: 0.2291 - val_dense_4_loss: 0.2520 - val_dense_5_loss: 0.2088 - val_dense_6_loss: 0.1282 - val_dense_2_accuracy: 0.9440 - val_dense_3_accuracy: 0.9365 - val_dense_4_accuracy: 0.9356 - val_dense_5_accuracy: 0.9506 - val_dense_6_accuracy: 0.9701\n",
            "Epoch 14/15\n",
            "60000/60000 [==============================] - 7s 121us/step - loss: 2.2145 - dense_2_loss: 0.5041 - dense_3_loss: 0.5268 - dense_4_loss: 0.5224 - dense_5_loss: 0.4231 - dense_6_loss: 0.2382 - dense_2_accuracy: 0.8340 - dense_3_accuracy: 0.8242 - dense_4_accuracy: 0.8241 - dense_5_accuracy: 0.8536 - dense_6_accuracy: 0.9179 - val_loss: 0.9992 - val_dense_2_loss: 0.2016 - val_dense_3_loss: 0.2275 - val_dense_4_loss: 0.2404 - val_dense_5_loss: 0.2042 - val_dense_6_loss: 0.1256 - val_dense_2_accuracy: 0.9462 - val_dense_3_accuracy: 0.9382 - val_dense_4_accuracy: 0.9377 - val_dense_5_accuracy: 0.9524 - val_dense_6_accuracy: 0.9717\n",
            "Epoch 15/15\n",
            "60000/60000 [==============================] - 7s 120us/step - loss: 2.1718 - dense_2_loss: 0.4923 - dense_3_loss: 0.5096 - dense_4_loss: 0.5194 - dense_5_loss: 0.4145 - dense_6_loss: 0.2360 - dense_2_accuracy: 0.8388 - dense_3_accuracy: 0.8300 - dense_4_accuracy: 0.8238 - dense_5_accuracy: 0.8567 - dense_6_accuracy: 0.9192 - val_loss: 0.9831 - val_dense_2_loss: 0.1965 - val_dense_3_loss: 0.2165 - val_dense_4_loss: 0.2432 - val_dense_5_loss: 0.1978 - val_dense_6_loss: 0.1291 - val_dense_2_accuracy: 0.9451 - val_dense_3_accuracy: 0.9420 - val_dense_4_accuracy: 0.9392 - val_dense_5_accuracy: 0.9541 - val_dense_6_accuracy: 0.9707\n"
          ],
          "name": "stdout"
        },
        {
          "output_type": "execute_result",
          "data": {
            "text/plain": [
              "<keras.callbacks.callbacks.History at 0x7f0599786748>"
            ]
          },
          "metadata": {
            "tags": []
          },
          "execution_count": 12
        }
      ]
    },
    {
      "cell_type": "code",
      "metadata": {
        "id": "CQDF37VaTQcL",
        "colab_type": "code",
        "colab": {}
      },
      "source": [
        "#Function for calculating Accuracy\n",
        "\n",
        "def calculate_acc(predictions,real_labels):\n",
        "    \n",
        "    individual_counter = 0\n",
        "    global_sequence_counter = 0\n",
        "    for i in range(0,len(predictions[0])):\n",
        "        #Reset sequence counter at the start of each image\n",
        "        sequence_counter = 0 \n",
        "        \n",
        "        for j in range(0,5):\n",
        "            if np.argmax(predictions[j][i]) == np.argmax(real_labels[j][i]):\n",
        "                individual_counter += 1\n",
        "                sequence_counter +=1\n",
        "        \n",
        "        if sequence_counter == 5:\n",
        "            global_sequence_counter += 1\n",
        "         \n",
        "    ind_accuracy = individual_counter/50000.0\n",
        "    global_accuracy = global_sequence_counter/10000.0\n",
        "    \n",
        "    return ind_accuracy,global_accuracy"
      ],
      "execution_count": 0,
      "outputs": []
    },
    {
      "cell_type": "code",
      "metadata": {
        "id": "eIg6dt2dU9ga",
        "colab_type": "code",
        "colab": {
          "base_uri": "https://localhost:8080/",
          "height": 34
        },
        "outputId": "e20fc053-08ff-4525-f368-1a31243b98c9"
      },
      "source": [
        "predictions = model.predict(test_images)\n",
        "\n",
        "ind_Acc, glob_acc = calculate_acc(predictions, test_labels)\n",
        "print(ind_Acc, glob_acc)"
      ],
      "execution_count": 14,
      "outputs": [
        {
          "output_type": "stream",
          "text": [
            "5.70132 4.6896\n"
          ],
          "name": "stdout"
        }
      ]
    },
    {
      "cell_type": "code",
      "metadata": {
        "id": "EeRj4bnlVndd",
        "colab_type": "code",
        "outputId": "4d64f52d-bb48-4b15-c11b-fbd86f750579",
        "colab": {
          "base_uri": "https://localhost:8080/",
          "height": 353
        }
      },
      "source": [
        "#Printing some examples of real and predicted labels\n",
        "for i in random.sample(range(0,10000),5):\n",
        "    \n",
        "    actual_labels = []\n",
        "    predicted_labels = []\n",
        "    \n",
        "    for j in range(0,5):\n",
        "        actual_labels.append(np.argmax(test_labels[j][i]))\n",
        "        predicted_labels.append(np.argmax(predictions[j][i]))\n",
        "    print('index', i)\n",
        "    print(\"Actual labels: {}\".format(actual_labels))\n",
        "    print(\"Predicted labels: {}\\n\".format(predicted_labels))"
      ],
      "execution_count": 15,
      "outputs": [
        {
          "output_type": "stream",
          "text": [
            "index 1058\n",
            "Actual labels: [9, 5, 10, 10, 10]\n",
            "Predicted labels: [9, 5, 10, 10, 10]\n",
            "\n",
            "index 7561\n",
            "Actual labels: [9, 10, 10, 10, 10]\n",
            "Predicted labels: [9, 10, 10, 10, 10]\n",
            "\n",
            "index 5633\n",
            "Actual labels: [9, 3, 9, 5, 1]\n",
            "Predicted labels: [9, 3, 9, 5, 1]\n",
            "\n",
            "index 1878\n",
            "Actual labels: [7, 2, 7, 10, 10]\n",
            "Predicted labels: [7, 2, 7, 10, 10]\n",
            "\n",
            "index 7315\n",
            "Actual labels: [6, 3, 10, 10, 10]\n",
            "Predicted labels: [6, 3, 10, 10, 10]\n",
            "\n"
          ],
          "name": "stdout"
        }
      ]
    },
    {
      "cell_type": "code",
      "metadata": {
        "id": "3SCUxO82WF66",
        "colab_type": "code",
        "colab": {}
      },
      "source": [
        "#A function which return the predicted digit\n",
        "\n",
        "def predict_image(image):\n",
        "  plt.imshow(np.resize(image, (64, 64)), cmap='gray')\n",
        "  plt.show()\n",
        "  image = image.reshape(1, 64, 64, 1)\n",
        "  prediction = model.predict(image)\n",
        "  for i in range(5):\n",
        "    prediction[i] = np.argmax(prediction[i])\n",
        "  a = []\n",
        "  for i in prediction:\n",
        "    if i!=10:\n",
        "      a.append(i)\n",
        "  print('Predicted Value is', ''.join(map(str, a)))"
      ],
      "execution_count": 0,
      "outputs": []
    },
    {
      "cell_type": "code",
      "metadata": {
        "id": "j5tmgtqQj0bA",
        "colab_type": "code",
        "outputId": "ba7fdecd-f08f-4172-be4b-cda0b26a4235",
        "colab": {
          "base_uri": "https://localhost:8080/",
          "height": 285
        }
      },
      "source": [
        "predict_image(test_images[70])"
      ],
      "execution_count": 17,
      "outputs": [
        {
          "output_type": "display_data",
          "data": {
            "image/png": "[encoded data removed]",
            "text/plain": [
              "<Figure size 432x288 with 1 Axes>"
            ]
          },
          "metadata": {
            "tags": [],
            "needs_background": "light"
          }
        },
        {
          "output_type": "stream",
          "text": [
            "Predicted Value is 69640\n"
          ],
          "name": "stdout"
        }
      ]
    }
  ]
}