{
  "nbformat": 4,
  "nbformat_minor": 0,
  "metadata": {
    "colab": {
      "name": "Digit Sequence Recognizaton.ipynb",
      "provenance": []
    },
    "kernelspec": {
      "name": "python3",
      "display_name": "Python 3"
    },
    "accelerator": "GPU"
  },
  "cells": [
    {
      "cell_type": "code",
      "metadata": {
        "id": "572ZvIDaBXbO",
        "colab_type": "code",
        "colab": {}
      },
      "source": [
        "import os\n",
        "import random\n",
        "import glob\n",
        "\n",
        "import numpy as np\n",
        "from PIL import Image\n",
        "import tensorflow as tf\n",
        "import h5py\n",
        "\n",
        "from keras.datasets import mnist\n",
        "from keras.utils import np_utils\n",
        "\n",
        "import matplotlib.pyplot as plt\n",
        "%matplotlib inline"
      ],
      "execution_count": 0,
      "outputs": []
    },
    {
      "cell_type": "code",
      "metadata": {
        "id": "8A_5aDW4CCqW",
        "colab_type": "code",
        "colab": {}
      },
      "source": [
        "#Loading MNIST Dataset from keras\n",
        "\n",
        "(X_train, y_train), (X_test, y_test) = mnist.load_data()"
      ],
      "execution_count": 0,
      "outputs": []
    },
    {
      "cell_type": "code",
      "metadata": {
        "id": "2iXF65ZmCeOS",
        "colab_type": "code",
        "colab": {
          "base_uri": "https://localhost:8080/",
          "height": 50
        },
        "outputId": "afd826e8-8bfe-43aa-e30a-b2ae134581f5"
      },
      "source": [
        "print(f'Shape of training dataset: {np.shape(X_train)}')\n",
        "print(f'Shape of testing dataset: {np.shape(X_test)}')"
      ],
      "execution_count": 30,
      "outputs": [
        {
          "output_type": "stream",
          "text": [
            "Shape of training dataset: (60000, 28, 28)\n",
            "Shape of testing dataset: (10000, 28, 28)\n"
          ],
          "name": "stdout"
        }
      ]
    },
    {
      "cell_type": "code",
      "metadata": {
        "id": "8V-uWTwnC6_o",
        "colab_type": "code",
        "colab": {}
      },
      "source": [
        "#Creating Custom Dataset for digits in sequence\n",
        "\n",
        "def build_dataset(data, labels, dataset_size):\n",
        "  new_img_width = 64\n",
        "  new_img_height = 64\n",
        "\n",
        "  new_data = np.ndarray(shape=(dataset_size, new_img_height, new_img_width), dtype=np.float32)\n",
        "  new_labels = []\n",
        "\n",
        "  for i in range(0, dataset_size):\n",
        "    num_digits = random.randint(1, 5)\n",
        "\n",
        "    indices = [random.randint(0, len(data)-1) for _ in range(0, num_digits)]\n",
        "    new_image = np.hstack([X_train[index] for index in indices])\n",
        "    new_label = [y_train[index] for index in indices]\n",
        "\n",
        "    for j in range(0, 5-num_digits):\n",
        "      new_image = np.hstack([new_image, np.zeros((28, 28))])\n",
        "      new_label.append(10)\n",
        "\n",
        "    new_image = np.array(Image.fromarray(new_image).resize((64, 64)))\n",
        "    new_data[i,:,:] = new_image\n",
        "    new_labels.append(tuple(new_label))\n",
        "  \n",
        "  return new_data, new_labels\n"
      ],
      "execution_count": 0,
      "outputs": []
    },
    {
      "cell_type": "code",
      "metadata": {
        "id": "TOV1fDy4G96O",
        "colab_type": "code",
        "colab": {}
      },
      "source": [
        "#Building new Training and Testing Dataset\n",
        "\n",
        "X_new_train, y_new_train = build_dataset(X_train, y_train, 60000)\n",
        "X_new_test, y_new_test = build_dataset(X_train, y_train, 60000)"
      ],
      "execution_count": 0,
      "outputs": []
    },
    {
      "cell_type": "code",
      "metadata": {
        "id": "jaxIa9pGHR71",
        "colab_type": "code",
        "colab": {
          "base_uri": "https://localhost:8080/",
          "height": 285
        },
        "outputId": "38a8b675-033b-447f-8697-bd08f3afc1b9"
      },
      "source": [
        "plt.figure()\n",
        "plt.imshow(X_new_train[102], cmap='gray')\n",
        "print(y_new_train[102])\n",
        "\n",
        "# here 10 shows empty space"
      ],
      "execution_count": 39,
      "outputs": [
        {
          "output_type": "stream",
          "text": [
            "(0, 4, 10, 10, 10)\n"
          ],
          "name": "stdout"
        },
        {
          "output_type": "display_data",
          "data": {
            "image/png": "[encoded data removed]",
            "text/plain": [
              "<Figure size 432x288 with 1 Axes>"
            ]
          },
          "metadata": {
            "tags": [],
            "needs_background": "light"
          }
        }
      ]
    },
    {
      "cell_type": "code",
      "metadata": {
        "id": "WKPeAtTvLNZU",
        "colab_type": "code",
        "colab": {}
      },
      "source": [
        "#Conver labels to One-hot representation of shape (set_Size, digits, classes)\n",
        "\n",
        "possible_classes = 11\n",
        "\n",
        "def convert_labels(labels):\n",
        "  dig0_arr = np.ndarray(shape=(len(labels),possible_classes))\n",
        "  dig1_arr = np.ndarray(shape=(len(labels),possible_classes))\n",
        "  dig2_arr = np.ndarray(shape=(len(labels),possible_classes))\n",
        "  dig3_arr = np.ndarray(shape=(len(labels),possible_classes)) \n",
        "  dig4_arr = np.ndarray(shape=(len(labels),possible_classes))\n",
        "\n",
        "  for index, label in enumerate(labels):\n",
        "    dig0_arr[index,:] = np_utils.to_categorical(label[0],possible_classes)\n",
        "    dig1_arr[index,:] = np_utils.to_categorical(label[1],possible_classes)\n",
        "    dig2_arr[index,:] = np_utils.to_categorical(label[2],possible_classes)\n",
        "    dig3_arr[index,:] = np_utils.to_categorical(label[3],possible_classes)\n",
        "    dig4_arr[index,:] = np_utils.to_categorical(label[4],possible_classes)\n",
        "\n",
        "  return [dig0_arr, dig1_arr, dig2_arr, dig3_arr, dig4_arr]"
      ],
      "execution_count": 0,
      "outputs": []
    },
    {
      "cell_type": "code",
      "metadata": {
        "id": "6UPFTHXUMOAu",
        "colab_type": "code",
        "colab": {
          "base_uri": "https://localhost:8080/",
          "height": 34
        },
        "outputId": "1be4b6c1-a540-481f-97ce-976bc14e4b06"
      },
      "source": [
        "train_labels = convert_labels(y_new_train)\n",
        "test_labels = convert_labels(y_new_test)\n",
        "\n",
        "print(np.shape(train_labels[0]))"
      ],
      "execution_count": 41,
      "outputs": [
        {
          "output_type": "stream",
          "text": [
            "(60000, 11)\n"
          ],
          "name": "stdout"
        }
      ]
    },
    {
      "cell_type": "code",
      "metadata": {
        "id": "C3KrYcloMbt2",
        "colab_type": "code",
        "colab": {}
      },
      "source": [
        "#Preprocessing Images\n",
        "\n",
        "def process_data(img_data):\n",
        "  img_data = img_data.reshape(len(img_data),64,64,1)\n",
        "  img_Data = img_data.astype('float32')\n",
        "  img_data = img_Data/255\n",
        "  return img_data"
      ],
      "execution_count": 0,
      "outputs": []
    },
    {
      "cell_type": "code",
      "metadata": {
        "id": "t0Xo98hBMpQC",
        "colab_type": "code",
        "colab": {}
      },
      "source": [
        "train_images = process_data(X_new_train)\n",
        "test_images = process_data(X_new_test)"
      ],
      "execution_count": 0,
      "outputs": []
    },
    {
      "cell_type": "code",
      "metadata": {
        "id": "AADd6rV-RiD3",
        "colab_type": "code",
        "colab": {}
      },
      "source": [
        "from keras.models import Sequential, Model\n",
        "from keras.layers import Dense, Dropout, Activation, Flatten, Input\n",
        "from keras.layers import Convolution2D, MaxPool2D"
      ],
      "execution_count": 0,
      "outputs": []
    },
    {
      "cell_type": "code",
      "metadata": {
        "id": "EazS0iPJNSDn",
        "colab_type": "code",
        "colab": {
          "base_uri": "https://localhost:8080/",
          "height": 101
        },
        "outputId": "fd924fa1-2085-498e-b303-b991498bb1c5"
      },
      "source": [
        "# Model Building\n",
        "\n",
        "batch_size = 128\n",
        "\n",
        "inputs = Input(shape=(64, 64, 1))\n",
        "\n",
        "cov = Convolution2D(32, 3, 3,border_mode='same')(inputs)\n",
        "cov = Activation('relu')(cov)\n",
        "cov = Convolution2D(32, 3, 3, border_mode='same')(cov)\n",
        "cov = Activation('relu')(cov)\n",
        "cov = MaxPool2D(pool_size=(2, 2))(cov)\n",
        "cov = Dropout(0.25)(cov)\n",
        "cov_out = Flatten()(cov)\n",
        "\n",
        "cov2 = Dense(128, activation='relu')(cov_out)\n",
        "cov2 = Dropout(0.5)(cov2)\n",
        "\n",
        "c0 = Dense(11, activation='softmax')(cov2)\n",
        "c1 = Dense(11, activation='softmax')(cov2)\n",
        "c2 = Dense(11, activation='softmax')(cov2)\n",
        "c3 = Dense(11, activation='softmax')(cov2)\n",
        "c4 = Dense(11, activation='softmax')(cov2)\n",
        "\n",
        "model = Model(input=inputs, output=[c0, c1, c2, c3, c4])\n",
        "\n",
        "model.compile(loss='categorical_crossentropy', optimizer='adam', metrics=['accuracy'])"
      ],
      "execution_count": 81,
      "outputs": [
        {
          "output_type": "stream",
          "text": [
            "/usr/local/lib/python3.6/dist-packages/ipykernel_launcher.py:6: UserWarning: Update your `Conv2D` call to the Keras 2 API: `Conv2D(32, (3, 3), padding=\"same\")`\n",
            "  \n",
            "/usr/local/lib/python3.6/dist-packages/ipykernel_launcher.py:8: UserWarning: Update your `Conv2D` call to the Keras 2 API: `Conv2D(32, (3, 3), padding=\"same\")`\n",
            "  \n",
            "/usr/local/lib/python3.6/dist-packages/ipykernel_launcher.py:23: UserWarning: Update your `Model` call to the Keras 2 API: `Model(inputs=Tensor(\"in..., outputs=[<tf.Tenso...)`\n"
          ],
          "name": "stderr"
        }
      ]
    },
    {
      "cell_type": "code",
      "metadata": {
        "id": "xuCudzksNVSX",
        "colab_type": "code",
        "colab": {
          "base_uri": "https://localhost:8080/",
          "height": 507
        },
        "outputId": "1bdbba85-8940-443c-fbfa-282f4b90df8a"
      },
      "source": [
        "model.fit(train_images, train_labels, batch_size=batch_size, nb_epoch=12, \n",
        "          verbose=1, validation_data=(test_images, test_labels))"
      ],
      "execution_count": 83,
      "outputs": [
        {
          "output_type": "stream",
          "text": [
            "/usr/local/lib/python3.6/dist-packages/ipykernel_launcher.py:2: UserWarning: The `nb_epoch` argument in `fit` has been renamed `epochs`.\n",
            "  \n"
          ],
          "name": "stderr"
        },
        {
          "output_type": "stream",
          "text": [
            "Train on 60000 samples, validate on 60000 samples\n",
            "Epoch 1/12\n",
            "60000/60000 [==============================] - 31s 522us/step - loss: 3.7339 - dense_3_loss: 0.9419 - dense_4_loss: 0.9038 - dense_5_loss: 0.8014 - dense_6_loss: 0.6491 - dense_7_loss: 0.4370 - dense_3_accuracy: 0.6831 - dense_4_accuracy: 0.7017 - dense_5_accuracy: 0.7390 - dense_6_accuracy: 0.7912 - dense_7_accuracy: 0.8619 - val_loss: 1.0821 - val_dense_3_loss: 0.2447 - val_dense_4_loss: 0.2384 - val_dense_5_loss: 0.2201 - val_dense_6_loss: 0.2026 - val_dense_7_loss: 0.1764 - val_dense_3_accuracy: 0.9500 - val_dense_4_accuracy: 0.9513 - val_dense_5_accuracy: 0.9552 - val_dense_6_accuracy: 0.9605 - val_dense_7_accuracy: 0.9561\n",
            "Epoch 2/12\n",
            "60000/60000 [==============================] - 24s 405us/step - loss: 2.3892 - dense_3_loss: 0.5734 - dense_4_loss: 0.5647 - dense_5_loss: 0.5196 - dense_6_loss: 0.4354 - dense_7_loss: 0.2961 - dense_3_accuracy: 0.8097 - dense_4_accuracy: 0.8111 - dense_5_accuracy: 0.8248 - dense_6_accuracy: 0.8567 - dense_7_accuracy: 0.9014 - val_loss: 0.6645 - val_dense_3_loss: 0.1453 - val_dense_4_loss: 0.1495 - val_dense_5_loss: 0.1395 - val_dense_6_loss: 0.1244 - val_dense_7_loss: 0.1058 - val_dense_3_accuracy: 0.9638 - val_dense_4_accuracy: 0.9675 - val_dense_5_accuracy: 0.9693 - val_dense_6_accuracy: 0.9736 - val_dense_7_accuracy: 0.9777\n",
            "Epoch 3/12\n",
            "60000/60000 [==============================] - 24s 408us/step - loss: 2.0627 - dense_3_loss: 0.4824 - dense_4_loss: 0.4805 - dense_5_loss: 0.4539 - dense_6_loss: 0.3844 - dense_7_loss: 0.2616 - dense_3_accuracy: 0.8407 - dense_4_accuracy: 0.8378 - dense_5_accuracy: 0.8467 - dense_6_accuracy: 0.8708 - dense_7_accuracy: 0.9125 - val_loss: 0.5750 - val_dense_3_loss: 0.1223 - val_dense_4_loss: 0.1280 - val_dense_5_loss: 0.1229 - val_dense_6_loss: 0.1065 - val_dense_7_loss: 0.0952 - val_dense_3_accuracy: 0.9693 - val_dense_4_accuracy: 0.9715 - val_dense_5_accuracy: 0.9737 - val_dense_6_accuracy: 0.9782 - val_dense_7_accuracy: 0.9803\n",
            "Epoch 4/12\n",
            "60000/60000 [==============================] - 25s 409us/step - loss: 1.8293 - dense_3_loss: 0.4222 - dense_4_loss: 0.4267 - dense_5_loss: 0.3983 - dense_6_loss: 0.3466 - dense_7_loss: 0.2354 - dense_3_accuracy: 0.8578 - dense_4_accuracy: 0.8547 - dense_5_accuracy: 0.8632 - dense_6_accuracy: 0.8821 - dense_7_accuracy: 0.9196 - val_loss: 0.5152 - val_dense_3_loss: 0.1090 - val_dense_4_loss: 0.1091 - val_dense_5_loss: 0.1049 - val_dense_6_loss: 0.1019 - val_dense_7_loss: 0.0902 - val_dense_3_accuracy: 0.9721 - val_dense_4_accuracy: 0.9751 - val_dense_5_accuracy: 0.9771 - val_dense_6_accuracy: 0.9793 - val_dense_7_accuracy: 0.9822\n",
            "Epoch 5/12\n",
            "60000/60000 [==============================] - 24s 405us/step - loss: 1.6526 - dense_3_loss: 0.3734 - dense_4_loss: 0.3798 - dense_5_loss: 0.3610 - dense_6_loss: 0.3210 - dense_7_loss: 0.2174 - dense_3_accuracy: 0.8734 - dense_4_accuracy: 0.8688 - dense_5_accuracy: 0.8755 - dense_6_accuracy: 0.8896 - dense_7_accuracy: 0.9250 - val_loss: 0.4479 - val_dense_3_loss: 0.0932 - val_dense_4_loss: 0.0973 - val_dense_5_loss: 0.0898 - val_dense_6_loss: 0.0852 - val_dense_7_loss: 0.0823 - val_dense_3_accuracy: 0.9757 - val_dense_4_accuracy: 0.9757 - val_dense_5_accuracy: 0.9794 - val_dense_6_accuracy: 0.9820 - val_dense_7_accuracy: 0.9822\n",
            "Epoch 6/12\n",
            "60000/60000 [==============================] - 24s 408us/step - loss: 1.5054 - dense_3_loss: 0.3426 - dense_4_loss: 0.3392 - dense_5_loss: 0.3285 - dense_6_loss: 0.2931 - dense_7_loss: 0.2018 - dense_3_accuracy: 0.8824 - dense_4_accuracy: 0.8815 - dense_5_accuracy: 0.8859 - dense_6_accuracy: 0.8975 - dense_7_accuracy: 0.9302 - val_loss: 0.3832 - val_dense_3_loss: 0.0813 - val_dense_4_loss: 0.0831 - val_dense_5_loss: 0.0815 - val_dense_6_loss: 0.0717 - val_dense_7_loss: 0.0655 - val_dense_3_accuracy: 0.9783 - val_dense_4_accuracy: 0.9784 - val_dense_5_accuracy: 0.9805 - val_dense_6_accuracy: 0.9836 - val_dense_7_accuracy: 0.9859\n",
            "Epoch 7/12\n",
            "60000/60000 [==============================] - 25s 412us/step - loss: 1.3871 - dense_3_loss: 0.3116 - dense_4_loss: 0.3105 - dense_5_loss: 0.3009 - dense_6_loss: 0.2721 - dense_7_loss: 0.1920 - dense_3_accuracy: 0.8935 - dense_4_accuracy: 0.8918 - dense_5_accuracy: 0.8945 - dense_6_accuracy: 0.9033 - dense_7_accuracy: 0.9339 - val_loss: 0.3701 - val_dense_3_loss: 0.0762 - val_dense_4_loss: 0.0762 - val_dense_5_loss: 0.0761 - val_dense_6_loss: 0.0701 - val_dense_7_loss: 0.0714 - val_dense_3_accuracy: 0.9785 - val_dense_4_accuracy: 0.9791 - val_dense_5_accuracy: 0.9808 - val_dense_6_accuracy: 0.9844 - val_dense_7_accuracy: 0.9848\n",
            "Epoch 8/12\n",
            "60000/60000 [==============================] - 25s 410us/step - loss: 1.2879 - dense_3_loss: 0.2844 - dense_4_loss: 0.2889 - dense_5_loss: 0.2803 - dense_6_loss: 0.2551 - dense_7_loss: 0.1793 - dense_3_accuracy: 0.9024 - dense_4_accuracy: 0.8973 - dense_5_accuracy: 0.9003 - dense_6_accuracy: 0.9096 - dense_7_accuracy: 0.9369 - val_loss: 0.3361 - val_dense_3_loss: 0.0708 - val_dense_4_loss: 0.0692 - val_dense_5_loss: 0.0705 - val_dense_6_loss: 0.0615 - val_dense_7_loss: 0.0641 - val_dense_3_accuracy: 0.9798 - val_dense_4_accuracy: 0.9810 - val_dense_5_accuracy: 0.9822 - val_dense_6_accuracy: 0.9846 - val_dense_7_accuracy: 0.9859\n",
            "Epoch 9/12\n",
            "60000/60000 [==============================] - 24s 407us/step - loss: 1.2150 - dense_3_loss: 0.2641 - dense_4_loss: 0.2745 - dense_5_loss: 0.2589 - dense_6_loss: 0.2463 - dense_7_loss: 0.1712 - dense_3_accuracy: 0.9067 - dense_4_accuracy: 0.9016 - dense_5_accuracy: 0.9080 - dense_6_accuracy: 0.9118 - dense_7_accuracy: 0.9382 - val_loss: 0.3182 - val_dense_3_loss: 0.0656 - val_dense_4_loss: 0.0635 - val_dense_5_loss: 0.0671 - val_dense_6_loss: 0.0567 - val_dense_7_loss: 0.0653 - val_dense_3_accuracy: 0.9809 - val_dense_4_accuracy: 0.9823 - val_dense_5_accuracy: 0.9822 - val_dense_6_accuracy: 0.9858 - val_dense_7_accuracy: 0.9855\n",
            "Epoch 10/12\n",
            "60000/60000 [==============================] - 24s 408us/step - loss: 1.1501 - dense_3_loss: 0.2519 - dense_4_loss: 0.2576 - dense_5_loss: 0.2471 - dense_6_loss: 0.2314 - dense_7_loss: 0.1620 - dense_3_accuracy: 0.9113 - dense_4_accuracy: 0.9068 - dense_5_accuracy: 0.9115 - dense_6_accuracy: 0.9179 - dense_7_accuracy: 0.9419 - val_loss: 0.3073 - val_dense_3_loss: 0.0701 - val_dense_4_loss: 0.0665 - val_dense_5_loss: 0.0629 - val_dense_6_loss: 0.0517 - val_dense_7_loss: 0.0560 - val_dense_3_accuracy: 0.9794 - val_dense_4_accuracy: 0.9814 - val_dense_5_accuracy: 0.9826 - val_dense_6_accuracy: 0.9863 - val_dense_7_accuracy: 0.9867\n",
            "Epoch 11/12\n",
            "60000/60000 [==============================] - 25s 409us/step - loss: 1.0952 - dense_3_loss: 0.2372 - dense_4_loss: 0.2491 - dense_5_loss: 0.2347 - dense_6_loss: 0.2185 - dense_7_loss: 0.1557 - dense_3_accuracy: 0.9140 - dense_4_accuracy: 0.9094 - dense_5_accuracy: 0.9161 - dense_6_accuracy: 0.9216 - dense_7_accuracy: 0.9437 - val_loss: 0.2881 - val_dense_3_loss: 0.0626 - val_dense_4_loss: 0.0613 - val_dense_5_loss: 0.0601 - val_dense_6_loss: 0.0530 - val_dense_7_loss: 0.0511 - val_dense_3_accuracy: 0.9816 - val_dense_4_accuracy: 0.9826 - val_dense_5_accuracy: 0.9837 - val_dense_6_accuracy: 0.9861 - val_dense_7_accuracy: 0.9886\n",
            "Epoch 12/12\n",
            "60000/60000 [==============================] - 24s 407us/step - loss: 1.0502 - dense_3_loss: 0.2264 - dense_4_loss: 0.2347 - dense_5_loss: 0.2263 - dense_6_loss: 0.2120 - dense_7_loss: 0.1507 - dense_3_accuracy: 0.9186 - dense_4_accuracy: 0.9141 - dense_5_accuracy: 0.9186 - dense_6_accuracy: 0.9230 - dense_7_accuracy: 0.9448 - val_loss: 0.2822 - val_dense_3_loss: 0.0609 - val_dense_4_loss: 0.0580 - val_dense_5_loss: 0.0567 - val_dense_6_loss: 0.0496 - val_dense_7_loss: 0.0570 - val_dense_3_accuracy: 0.9822 - val_dense_4_accuracy: 0.9836 - val_dense_5_accuracy: 0.9845 - val_dense_6_accuracy: 0.9870 - val_dense_7_accuracy: 0.9863\n"
          ],
          "name": "stdout"
        },
        {
          "output_type": "execute_result",
          "data": {
            "text/plain": [
              "<keras.callbacks.callbacks.History at 0x7f0c7ad56e48>"
            ]
          },
          "metadata": {
            "tags": []
          },
          "execution_count": 83
        }
      ]
    },
    {
      "cell_type": "code",
      "metadata": {
        "id": "CQDF37VaTQcL",
        "colab_type": "code",
        "colab": {}
      },
      "source": [
        "#Function for calculating Accuracy\n",
        "\n",
        "def calculate_acc(predictions,real_labels):\n",
        "    \n",
        "    individual_counter = 0\n",
        "    global_sequence_counter = 0\n",
        "    for i in range(0,len(predictions[0])):\n",
        "        #Reset sequence counter at the start of each image\n",
        "        sequence_counter = 0 \n",
        "        \n",
        "        for j in range(0,5):\n",
        "            if np.argmax(predictions[j][i]) == np.argmax(real_labels[j][i]):\n",
        "                individual_counter += 1\n",
        "                sequence_counter +=1\n",
        "        \n",
        "        if sequence_counter == 5:\n",
        "            global_sequence_counter += 1\n",
        "         \n",
        "    ind_accuracy = individual_counter/50000.0\n",
        "    global_accuracy = global_sequence_counter/10000.0\n",
        "    \n",
        "    return ind_accuracy,global_accuracy\n"
      ],
      "execution_count": 0,
      "outputs": []
    },
    {
      "cell_type": "code",
      "metadata": {
        "id": "eIg6dt2dU9ga",
        "colab_type": "code",
        "colab": {}
      },
      "source": [
        "predictions = model.predict(test_images)\n",
        "\n",
        "ind_Acc, glob_acc = cal_acc(predictions, test_labels)"
      ],
      "execution_count": 0,
      "outputs": []
    },
    {
      "cell_type": "code",
      "metadata": {
        "id": "EeRj4bnlVndd",
        "colab_type": "code",
        "colab": {
          "base_uri": "https://localhost:8080/",
          "height": 353
        },
        "outputId": "4ee83976-af16-4ee1-94ac-2426a7c7c306"
      },
      "source": [
        "#Printing some examples of real and predicted labels\n",
        "for i in random.sample(range(0,10000),5):\n",
        "    \n",
        "    actual_labels = []\n",
        "    predicted_labels = []\n",
        "    \n",
        "    for j in range(0,5):\n",
        "        actual_labels.append(np.argmax(test_labels[j][i]))\n",
        "        predicted_labels.append(np.argmax(predictions[j][i]))\n",
        "    print(i)\n",
        "    print(\"Actual labels: {}\".format(actual_labels))\n",
        "    print(\"Predicted labels: {}\\n\".format(predicted_labels))"
      ],
      "execution_count": 117,
      "outputs": [
        {
          "output_type": "stream",
          "text": [
            "7838\n",
            "Actual labels: [4, 10, 10, 10, 10]\n",
            "Predicted labels: [4, 10, 10, 10, 10]\n",
            "\n",
            "7174\n",
            "Actual labels: [0, 5, 10, 10, 10]\n",
            "Predicted labels: [0, 5, 10, 10, 10]\n",
            "\n",
            "7773\n",
            "Actual labels: [6, 4, 10, 10, 10]\n",
            "Predicted labels: [6, 4, 10, 10, 10]\n",
            "\n",
            "7079\n",
            "Actual labels: [8, 0, 1, 10, 10]\n",
            "Predicted labels: [8, 0, 1, 10, 10]\n",
            "\n",
            "3012\n",
            "Actual labels: [9, 6, 6, 10, 10]\n",
            "Predicted labels: [9, 6, 6, 10, 10]\n",
            "\n"
          ],
          "name": "stdout"
        }
      ]
    },
    {
      "cell_type": "code",
      "metadata": {
        "id": "3SCUxO82WF66",
        "colab_type": "code",
        "colab": {
          "base_uri": "https://localhost:8080/",
          "height": 302
        },
        "outputId": "f9daff81-32e4-4193-b8a5-b8b0436ee0f1"
      },
      "source": [
        "ind = 2025\n",
        "\n",
        "predicted_labels = []\n",
        "for j in range(0,5):\n",
        "  predicted_labels.append(np.argmax(predictions[j][ind]))\n",
        "\n",
        "plt.imshow(X_new_test[ind], cmap='gray')\n",
        "print('Real: ', y_new_test[ind])\n",
        "print('Predicted: ', predicted_labels)"
      ],
      "execution_count": 125,
      "outputs": [
        {
          "output_type": "stream",
          "text": [
            "Real:  (4, 7, 8, 7, 10)\n",
            "Predicted:  [4, 7, 8, 7, 10]\n"
          ],
          "name": "stdout"
        },
        {
          "output_type": "display_data",
          "data": {
            "image/png": "[encoded data removed]",
            "text/plain": [
              "<Figure size 432x288 with 1 Axes>"
            ]
          },
          "metadata": {
            "tags": [],
            "needs_background": "light"
          }
        }
      ]
    }
  ]
}